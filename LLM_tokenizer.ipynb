{
  "nbformat": 4,
  "nbformat_minor": 0,
  "metadata": {
    "colab": {
      "provenance": [],
      "authorship_tag": "ABX9TyNemDZyBYoRdlMCwlEf5aAF",
      "include_colab_link": true
    },
    "kernelspec": {
      "name": "python3",
      "display_name": "Python 3"
    },
    "language_info": {
      "name": "python"
    }
  },
  "cells": [
    {
      "cell_type": "markdown",
      "metadata": {
        "id": "view-in-github",
        "colab_type": "text"
      },
      "source": [
        "<a href=\"https://colab.research.google.com/github/LaiTechTinker/Datascinceproject/blob/main/LLM_tokenizer.ipynb\" target=\"_parent\"><img src=\"https://colab.research.google.com/assets/colab-badge.svg\" alt=\"Open In Colab\"/></a>"
      ]
    },
    {
      "cell_type": "code",
      "execution_count": null,
      "metadata": {
        "colab": {
          "base_uri": "https://localhost:8080/"
        },
        "id": "htakUgBSr74e",
        "outputId": "78743cc9-a273-4f17-9a4c-b62965e709c2"
      },
      "outputs": [
        {
          "output_type": "stream",
          "name": "stdout",
          "text": [
            "Mounted at /content/drive\n"
          ]
        }
      ],
      "source": [
        "from google.colab import drive\n",
        "# filepath=drive.mount('/content/drive/My Drive/LLM_pract/the-verdict.txt')\n",
        "drive.mount('/content/drive')\n",
        "# real_Path=drive.mount(filepath)\n",
        "# with open(real_Path,'r',encoding='utf-8') as f:\n",
        "#  text=f.read()\n",
        "# print(text)"
      ]
    },
    {
      "cell_type": "code",
      "source": [
        "filepath='/content/drive/My Drive/LLM_pract/the-verdict.txt'\n",
        "with open(filepath,'r',encoding='utf-8') as f:\n",
        "  text=f.read()\n",
        "print(len(text))"
      ],
      "metadata": {
        "colab": {
          "base_uri": "https://localhost:8080/"
        },
        "id": "Z-CwMHLktCXb",
        "outputId": "c08c1e7f-92f9-4426-9335-533ce889f97b"
      },
      "execution_count": null,
      "outputs": [
        {
          "output_type": "stream",
          "name": "stdout",
          "text": [
            "20479\n"
          ]
        }
      ]
    },
    {
      "cell_type": "code",
      "source": [
        "print(text[:99])"
      ],
      "metadata": {
        "colab": {
          "base_uri": "https://localhost:8080/"
        },
        "id": "d3cBZWhOzc0q",
        "outputId": "2de8d0b4-558b-431b-efd6-6cababc71b38"
      },
      "execution_count": null,
      "outputs": [
        {
          "output_type": "stream",
          "name": "stdout",
          "text": [
            "I HAD always thought Jack Gisburn rather a cheap genius--though a good fellow enough--so it was no \n"
          ]
        }
      ]
    },
    {
      "cell_type": "code",
      "source": [
        "# import re\n",
        "# re_text=\"hello, world. This i a text\"\n",
        "# result=re.split(r'([,.]\\s)',re_text)\n",
        "# new_result=[item.strip() for item in result]\n",
        "# print(result)\n",
        "# print(new_result)"
      ],
      "metadata": {
        "colab": {
          "base_uri": "https://localhost:8080/"
        },
        "id": "_n7lg8VFzi-2",
        "outputId": "0c0ce789-efe9-4125-89e6-020c7eafffc7"
      },
      "execution_count": null,
      "outputs": [
        {
          "output_type": "stream",
          "name": "stdout",
          "text": [
            "['hello', ', ', 'world', '. ', 'This i a text']\n",
            "['hello', ',', 'world', '.', 'This i a text']\n"
          ]
        }
      ]
    },
    {
      "cell_type": "code",
      "source": [
        "# result=re.split(r'([,.?-_!:\"\\']\\s)',text)\n",
        "# new_result=[item.strip() for item in result]\n",
        "# print(new_result[:120])"
      ],
      "metadata": {
        "colab": {
          "base_uri": "https://localhost:8080/"
        },
        "id": "tFozCOAp1yey",
        "outputId": "132bf246-da28-4151-feae-87ed10a4cdbd"
      },
      "execution_count": null,
      "outputs": [
        {
          "output_type": "stream",
          "name": "stdout",
          "text": [
            "['', 'I', 'HA', 'D', 'always thought Jack Gisburn rather a cheap genius--though a good fellow enough--so it was no great surprise to me to hear that', ',', 'in the height of his glory', ',', 'he had dropped his painting', ',', 'married a rich widow', ',', 'and established himself in a villa on the Riviera', '.', '(Though', 'I', 'rather thought it would have been Rome or Florence.)\\n\\n\"The height of his glory\"--that was what the women called it', '.', '', 'I', 'can hear Mrs', '.', 'Gideon Thwing--his last Chicago sitter--deploring his unaccountable abdication', '.', '\"Of course it\\'s going to send the value of my picture \\'way up; but', 'I', \"don't think of that\", ',', 'Mr', '.', 'Rickham--the loss to Arrt is all', 'I', 'think of.', '\"', 'The word', ',', 'on Mrs', '.', \"Thwing's lips\", ',', 'multiplied its _rs', '_', 'as though they were reflected in an endless vista of mirrors', '.', 'And it was not only the Mrs', '.', 'Thwings who mourned', '.', 'Had not the exquisite Hermia Croft', ',', 'at the last Grafton Gallery show', ',', 'stopped me before Gisburn\\'s \"Moon-dancers', '\"', 'to say', ',', 'with tears in her eyes', ':', '\"We shall not look upon its like again\"', '?', \"Well!--even through the prism of Hermia's tears\", 'I', 'felt able to face the fact with equanimity', '.', 'Poor Jack Gisburn', '!', 'The women had made him--it was fitting that they should mourn him', '.', 'Among his own sex fewer regrets were heard', ',', 'and in his own trade hardly a murmur', '.', 'Professional jealousy', '?', 'Perhaps', '.', 'If it were', ',', 'the honour of the craft was vindicated by little Claude Nutley', ',', 'who', ',', 'in all good faith', ',', 'brought out in the Burlington a very handsome \"obituary', '\"', 'on Jack--one of those showy articles stocked with random technicalities that', 'I', 'have heard (', 'I', \"won't say by whom) compared to Gisburn's painting\", '.', 'And so--his resolve being apparently irrevocable--the discussion gradually died out', ',', 'and', ',', 'as Mrs', '.', 'Thwing had predicted', ',', 'the price of \"Gisburns', '\"', 'went up', '.', 'It was not till three years later that', ',', 'in the course of a few weeks', \"'\", 'idling on the Riviera', ',', 'it suddenly occurred to me to wonder why Gisburn had given up his painting', '.', 'On reflection', ',', 'it really was a tempting problem', '.', 'To accuse his wife would have been too easy--his fair sitters had been denied the solace of saying that Mrs', '.', 'Gisburn had \"dragged him down.', '\"']\n"
          ]
        }
      ]
    },
    {
      "cell_type": "code",
      "source": [
        "\n",
        "result = re.split(r'([,.:;?_!\"()\\']|--|\\s)', text)\n",
        "preprocessed = [item.strip() for item in result if item.strip()]\n",
        "print(preprocessed[:100])"
      ],
      "metadata": {
        "colab": {
          "base_uri": "https://localhost:8080/"
        },
        "id": "bjTckoUD5SVI",
        "outputId": "8fa05f3f-3122-4011-cd38-4a55a293085d"
      },
      "execution_count": null,
      "outputs": [
        {
          "output_type": "stream",
          "name": "stdout",
          "text": [
            "['I', 'HAD', 'always', 'thought', 'Jack', 'Gisburn', 'rather', 'a', 'cheap', 'genius', '--', 'though', 'a', 'good', 'fellow', 'enough', '--', 'so', 'it', 'was', 'no', 'great', 'surprise', 'to', 'me', 'to', 'hear', 'that', ',', 'in', 'the', 'height', 'of', 'his', 'glory', ',', 'he', 'had', 'dropped', 'his', 'painting', ',', 'married', 'a', 'rich', 'widow', ',', 'and', 'established', 'himself', 'in', 'a', 'villa', 'on', 'the', 'Riviera', '.', '(', 'Though', 'I', 'rather', 'thought', 'it', 'would', 'have', 'been', 'Rome', 'or', 'Florence', '.', ')', '\"', 'The', 'height', 'of', 'his', 'glory', '\"', '--', 'that', 'was', 'what', 'the', 'women', 'called', 'it', '.', 'I', 'can', 'hear', 'Mrs', '.', 'Gideon', 'Thwing', '--', 'his', 'last', 'Chicago', 'sitter', '--']\n"
          ]
        }
      ]
    },
    {
      "cell_type": "code",
      "source": [
        "print(len(preprocessed))"
      ],
      "metadata": {
        "colab": {
          "base_uri": "https://localhost:8080/"
        },
        "id": "aDPMC7mK5to2",
        "outputId": "07e878ec-bf13-4d77-d507-42f64655990a"
      },
      "execution_count": null,
      "outputs": [
        {
          "output_type": "stream",
          "name": "stdout",
          "text": [
            "4690\n"
          ]
        }
      ]
    },
    {
      "cell_type": "code",
      "source": [
        "allwords=sorted(set(preprocessed))\n",
        "print(len(allwords))"
      ],
      "metadata": {
        "colab": {
          "base_uri": "https://localhost:8080/"
        },
        "id": "sFpsQqQw777z",
        "outputId": "c7674015-ef50-4fb5-fb08-c661c639f587"
      },
      "execution_count": null,
      "outputs": [
        {
          "output_type": "stream",
          "name": "stdout",
          "text": [
            "1130\n"
          ]
        }
      ]
    },
    {
      "cell_type": "code",
      "source": [
        "vocab={word:index for index,word in enumerate(allwords)}\n",
        "for i,word in enumerate(vocab.items()):\n",
        "  print(word)\n",
        "  if i ==50:\n",
        "    break"
      ],
      "metadata": {
        "colab": {
          "base_uri": "https://localhost:8080/"
        },
        "id": "RtmREMn28QEi",
        "outputId": "b40ac0c7-10bc-4c94-9546-602f8cb595b9"
      },
      "execution_count": null,
      "outputs": [
        {
          "output_type": "stream",
          "name": "stdout",
          "text": [
            "('!', 0)\n",
            "('\"', 1)\n",
            "(\"'\", 2)\n",
            "('(', 3)\n",
            "(')', 4)\n",
            "(',', 5)\n",
            "('--', 6)\n",
            "('.', 7)\n",
            "(':', 8)\n",
            "(';', 9)\n",
            "('?', 10)\n",
            "('A', 11)\n",
            "('Ah', 12)\n",
            "('Among', 13)\n",
            "('And', 14)\n",
            "('Are', 15)\n",
            "('Arrt', 16)\n",
            "('As', 17)\n",
            "('At', 18)\n",
            "('Be', 19)\n",
            "('Begin', 20)\n",
            "('Burlington', 21)\n",
            "('But', 22)\n",
            "('By', 23)\n",
            "('Carlo', 24)\n",
            "('Chicago', 25)\n",
            "('Claude', 26)\n",
            "('Come', 27)\n",
            "('Croft', 28)\n",
            "('Destroyed', 29)\n",
            "('Devonshire', 30)\n",
            "('Don', 31)\n",
            "('Dubarry', 32)\n",
            "('Emperors', 33)\n",
            "('Florence', 34)\n",
            "('For', 35)\n",
            "('Gallery', 36)\n",
            "('Gideon', 37)\n",
            "('Gisburn', 38)\n",
            "('Gisburns', 39)\n",
            "('Grafton', 40)\n",
            "('Greek', 41)\n",
            "('Grindle', 42)\n",
            "('Grindles', 43)\n",
            "('HAD', 44)\n",
            "('Had', 45)\n",
            "('Hang', 46)\n",
            "('Has', 47)\n",
            "('He', 48)\n",
            "('Her', 49)\n",
            "('Hermia', 50)\n"
          ]
        }
      ]
    },
    {
      "cell_type": "code",
      "source": [
        "class Tokenizer:\n",
        "  def __init__(self,vocab):\n",
        "    self.str_to_int=vocab\n",
        "    self.int_to_str={i:s for s,i in vocab.items()}\n",
        "  def encode(self, text):\n",
        "        preprocessed = re.split(r'([,.:;?_!\"()\\']|--|\\s)', text)\n",
        "\n",
        "        preprocessed = [\n",
        "            item.strip() for item in preprocessed if item.strip()\n",
        "        ]\n",
        "        ids=[]\n",
        "        for s in preprocessed:\n",
        "          if s not in self.str_to_int:\n",
        "            continue\n",
        "          ids.append(self.str_to_int[s])\n",
        "        return ids\n",
        "\n",
        "  def decode(self, ids):\n",
        "        text = \" \".join([self.int_to_str[i] for i in ids])\n",
        "        # Replace spaces before the specified punctuations\n",
        "        text = re.sub(r'\\s+([,.?!\"()\\'])', r'\\1', text)\n",
        "        return text"
      ],
      "metadata": {
        "id": "kP7mQLUl-OXA"
      },
      "execution_count": null,
      "outputs": []
    },
    {
      "cell_type": "code",
      "source": [
        "all_tokens = sorted(list(set(preprocessed)))\n",
        "all_tokens.extend([\"<|endoftext|>\", \"<|unk|>\"])\n",
        "\n",
        "vocab = {token:integer for integer,token in enumerate(all_tokens)}"
      ],
      "metadata": {
        "id": "mr0G9Ks8MnYL"
      },
      "execution_count": null,
      "outputs": []
    },
    {
      "cell_type": "code",
      "source": [
        "len(vocab.items())"
      ],
      "metadata": {
        "colab": {
          "base_uri": "https://localhost:8080/"
        },
        "id": "4YYDQUPyMq3C",
        "outputId": "514f1d76-c406-44fb-a748-36a4abea77c0"
      },
      "execution_count": null,
      "outputs": [
        {
          "output_type": "execute_result",
          "data": {
            "text/plain": [
              "1132"
            ]
          },
          "metadata": {},
          "execution_count": 61
        }
      ]
    },
    {
      "cell_type": "code",
      "source": [
        "for i, item in enumerate(list(vocab.items())[-5:]):\n",
        "    print(item)"
      ],
      "metadata": {
        "colab": {
          "base_uri": "https://localhost:8080/"
        },
        "id": "EN-4H4N3Mv-N",
        "outputId": "168ed57e-b4a1-4f5e-d926-117cef5e9aa0"
      },
      "execution_count": null,
      "outputs": [
        {
          "output_type": "stream",
          "name": "stdout",
          "text": [
            "('younger', 1127)\n",
            "('your', 1128)\n",
            "('yourself', 1129)\n",
            "('<|endoftext|>', 1130)\n",
            "('<|unk|>', 1131)\n"
          ]
        }
      ]
    },
    {
      "cell_type": "code",
      "source": [
        "class tokenizerV2:\n",
        "    def __init__(self, vocab):\n",
        "        self.str_to_int = vocab\n",
        "        self.int_to_str = { i:s for s,i in vocab.items()}\n",
        "\n",
        "    def encode(self, text):\n",
        "        preprocessed = re.split(r'([,.:;?_!\"()\\']|--|\\s)', text)\n",
        "        preprocessed = [item.strip() for item in preprocessed if item.strip()]\n",
        "        preprocessed = [\n",
        "            item if item in self.str_to_int\n",
        "            else \"<|unk|>\" for item in preprocessed # the <unk> will be unknown with the largest integer\n",
        "        ]\n",
        "\n",
        "        ids = [self.str_to_int[s] for s in preprocessed]\n",
        "        return ids\n",
        "\n",
        "    def decode(self, ids):\n",
        "        text = \" \".join([self.int_to_str[i] for i in ids])\n",
        "        # Replace spaces before the specified punctuations\n",
        "        text = re.sub(r'\\s+([,.:;?!\"()\\'])', r'\\1', text)\n",
        "        # return text(r'\\s+([,.?!\"()\\'])', r'\\1', text)\n",
        "        return text"
      ],
      "metadata": {
        "id": "Ex3rF6MtEEw-"
      },
      "execution_count": null,
      "outputs": []
    },
    {
      "cell_type": "code",
      "source": [
        "tokenizer = Tokenizer(vocab)\n",
        "\n",
        "text = \"\"\"\"It's the last he painted, you know,\"\n",
        "           Mrs. Gisburn said with pardonable pride.\"\"\"\n",
        "ids = tokenizer.encode(text)\n",
        "print(ids)"
      ],
      "metadata": {
        "colab": {
          "base_uri": "https://localhost:8080/"
        },
        "id": "EnzdTleNCk0G",
        "outputId": "3e7162d0-362d-41c2-e226-b72e86bd395f"
      },
      "execution_count": null,
      "outputs": [
        {
          "output_type": "stream",
          "name": "stdout",
          "text": [
            "[1, 56, 2, 850, 988, 602, 533, 746, 5, 1126, 596, 5, 1, 67, 7, 38, 851, 1108, 754, 793, 7]\n"
          ]
        }
      ]
    },
    {
      "cell_type": "code",
      "source": [
        "tokenizer = tokenizerV2(vocab)\n",
        "\n",
        "text1 = \"Hello, do you like tea?\"\n",
        "text2 = \"In the sunlit terraces of the palace.\"\n",
        "\n",
        "text = \" <|endoftext|> \".join((text1, text2))\n",
        "\n",
        "print(text)"
      ],
      "metadata": {
        "colab": {
          "base_uri": "https://localhost:8080/"
        },
        "id": "9bD-ZWh8M6aO",
        "outputId": "edc9e5a6-e702-4f25-dde2-57edfa7453d7"
      },
      "execution_count": null,
      "outputs": [
        {
          "output_type": "stream",
          "name": "stdout",
          "text": [
            "Hello, do you like tea? <|endoftext|> In the sunlit terraces of the palace.\n"
          ]
        }
      ]
    },
    {
      "cell_type": "code",
      "source": [
        "tokenizer.encode(text)"
      ],
      "metadata": {
        "colab": {
          "base_uri": "https://localhost:8080/"
        },
        "id": "n0F0em3pM9Ng",
        "outputId": "dc3482c1-27ce-48b2-df20-5d462a1e290d"
      },
      "execution_count": null,
      "outputs": [
        {
          "output_type": "execute_result",
          "data": {
            "text/plain": [
              "[1131, 5, 355, 1126, 628, 975, 10, 1130, 55, 988, 956, 984, 722, 988, 1131, 7]"
            ]
          },
          "metadata": {},
          "execution_count": 71
        }
      ]
    },
    {
      "cell_type": "code",
      "source": [
        "ids = tokenizer.encode(text)\n",
        "tokenizer.decode(ids)"
      ],
      "metadata": {
        "colab": {
          "base_uri": "https://localhost:8080/",
          "height": 36
        },
        "id": "dZkonv25NwNZ",
        "outputId": "a56dad17-1bbd-4f52-87a3-06d641ff0a0a"
      },
      "execution_count": null,
      "outputs": [
        {
          "output_type": "execute_result",
          "data": {
            "text/plain": [
              "'<|unk|>, do you like tea? <|endoftext|> In the sunlit terraces of the <|unk|>.'"
            ],
            "application/vnd.google.colaboratory.intrinsic+json": {
              "type": "string"
            }
          },
          "metadata": {},
          "execution_count": 72
        }
      ]
    },
    {
      "cell_type": "code",
      "source": [],
      "metadata": {
        "id": "rHKDULVnOHrq"
      },
      "execution_count": null,
      "outputs": []
    }
  ]
}