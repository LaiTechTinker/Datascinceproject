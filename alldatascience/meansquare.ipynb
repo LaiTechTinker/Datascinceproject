{
 "cells": [
  {
   "cell_type": "code",
   "execution_count": 39,
   "id": "5b4021e5-b4a1-4b0c-93dc-dcad673a74e2",
   "metadata": {},
   "outputs": [],
   "source": [
    "#first import the necessary package\n",
    "import numpy as np\n",
    "#create the ypred and y true array\n",
    "ypred=np.array([1,1,0,0,1])\n",
    "ytrue=np.array([0.30,0.70,1,0,0.5])\n",
    "#declare a funtion\n",
    "def mabs(ypred,ytrue):\n",
    "    totalarr=ypred-ytrue #this compute the diffrence in the two arr\n",
    "    sumoftotal=np.sum(totalarr) #this sum all the arr\n",
    "    # then compute the absolute error\n",
    "    mean_absolute=sumoftotal / len(ytrue)\n",
    "    print(np.abs(totalarr))\n",
    "    return mean_absolute\n",
    "    "
   ]
  },
  {
   "cell_type": "code",
   "execution_count": 40,
   "id": "a7e24363-b2c9-4ecd-af0d-f4d97075440d",
   "metadata": {},
   "outputs": [
    {
     "name": "stdout",
     "output_type": "stream",
     "text": [
      "[0.7 0.3 1.  0.  0.5]\n"
     ]
    },
    {
     "data": {
      "text/plain": [
       "np.float64(0.1)"
      ]
     },
     "execution_count": 40,
     "metadata": {},
     "output_type": "execute_result"
    }
   ],
   "source": [
    "mabs(ypred,ytrue)"
   ]
  },
  {
   "cell_type": "code",
   "execution_count": 46,
   "id": "bf84a263-6ae7-40a5-8aec-8389052f6521",
   "metadata": {},
   "outputs": [],
   "source": [
    "#mean square error codeblock\n",
    "#first import the necessary package\n",
    "import numpy as np\n",
    "#create the ypred and y true array\n",
    "ypred=np.array([1,1,0,0,1])\n",
    "ytrue=np.array([0.30,0.70,1,0,0.5])\n",
    "emptyarr=[]\n",
    "result=np.array([])\n",
    "#declare a funtion\n",
    "def mse(ypred,ytrue):\n",
    "    for yprd,ytr in zip(ypred,ytrue):\n",
    "        squarederr=np.abs(yprd-ytr)\n",
    "        power=np.power(squarederr,2)\n",
    "        # print(power)\n",
    "        emptyarr.append(power)\n",
    "        result=np.array(emptyarr)\n",
    "    total=np.sum(result)\n",
    "    final=total/len(ytrue)\n",
    "    return final\n",
    "   "
   ]
  },
  {
   "cell_type": "code",
   "execution_count": 47,
   "id": "804e8d53-4bff-4306-834f-70d95e554346",
   "metadata": {},
   "outputs": [
    {
     "data": {
      "text/plain": [
       "np.float64(0.366)"
      ]
     },
     "execution_count": 47,
     "metadata": {},
     "output_type": "execute_result"
    }
   ],
   "source": [
    "mse(ypred,ytrue)"
   ]
  },
  {
   "cell_type": "code",
   "execution_count": 50,
   "id": "ed530e84-d643-4d53-9a81-fcf4ef58f760",
   "metadata": {},
   "outputs": [],
   "source": [
    "# log loss code implementation\n",
    "# first create an episolon which will avoid you getting value of zero for log\n",
    "episolon=1e-15"
   ]
  },
  {
   "cell_type": "code",
   "execution_count": 51,
   "id": "dfd0a270-b8db-4fdb-ba3b-a085060921fb",
   "metadata": {},
   "outputs": [
    {
     "data": {
      "text/plain": [
       "array([1, 1, 0, 0, 1])"
      ]
     },
     "execution_count": 51,
     "metadata": {},
     "output_type": "execute_result"
    }
   ],
   "source": [
    "ypred"
   ]
  },
  {
   "cell_type": "code",
   "execution_count": 54,
   "id": "80200104-ff78-48a6-978e-7e3c59257c6a",
   "metadata": {},
   "outputs": [
    {
     "data": {
      "text/plain": [
       "[np.int64(1), np.int64(1), 1e-15, 1e-15, np.int64(1)]"
      ]
     },
     "execution_count": 54,
     "metadata": {},
     "output_type": "execute_result"
    }
   ],
   "source": [
    "yprd_new=[]\n",
    "for i in ypred:\n",
    "    yprd_new.append(max(i,episolon))\n",
    "yprd_new"
   ]
  },
  {
   "cell_type": "code",
   "execution_count": 55,
   "id": "ff1e687f-90b9-4d81-b92b-eebca6ccc89a",
   "metadata": {},
   "outputs": [
    {
     "data": {
      "text/plain": [
       "[0.999999999999999, 0.999999999999999, 1e-15, 1e-15, 0.999999999999999]"
      ]
     },
     "execution_count": 55,
     "metadata": {},
     "output_type": "execute_result"
    }
   ],
   "source": [
    "y_final=[]\n",
    "for i in yprd_new:\n",
    "    y_final.append(min(i,1-episolon))\n",
    "y_final"
   ]
  },
  {
   "cell_type": "code",
   "execution_count": 56,
   "id": "d54a9a2b-3424-44d7-a64d-42563312fead",
   "metadata": {},
   "outputs": [
    {
     "data": {
      "text/plain": [
       "array([-9.99200722e-16, -9.99200722e-16, -3.45387764e+01, -3.45387764e+01,\n",
       "       -9.99200722e-16])"
      ]
     },
     "execution_count": 56,
     "metadata": {},
     "output_type": "execute_result"
    }
   ],
   "source": [
    "np.log(y_final)"
   ]
  },
  {
   "cell_type": "code",
   "execution_count": 63,
   "id": "98e5a8a4-3bdd-45d1-9185-574ee5e5c70d",
   "metadata": {},
   "outputs": [],
   "source": [
    "value1=ytrue*np.log(np.array(y_final)+(1-ytrue))"
   ]
  },
  {
   "cell_type": "code",
   "execution_count": 64,
   "id": "d4c46f5c-9353-43a1-8bc4-e6434220f3ef",
   "metadata": {},
   "outputs": [
    {
     "data": {
      "text/plain": [
       "array([  0.15918848,   0.18365499, -34.53877639,   0.        ,\n",
       "         0.20273255])"
      ]
     },
     "execution_count": 64,
     "metadata": {},
     "output_type": "execute_result"
    }
   ],
   "source": [
    "value1"
   ]
  },
  {
   "cell_type": "code",
   "execution_count": 65,
   "id": "723e33c8-5188-422f-be57-3ef80aa59fa1",
   "metadata": {},
   "outputs": [
    {
     "data": {
      "text/plain": [
       "array([-3.45395760e+01, -3.45395760e+01, -9.99200722e-16, -9.99200722e-16,\n",
       "       -3.45395760e+01])"
      ]
     },
     "execution_count": 65,
     "metadata": {},
     "output_type": "execute_result"
    }
   ],
   "source": [
    "value2=np.log(1 - np.array(y_final))\n",
    "value2"
   ]
  },
  {
   "cell_type": "code",
   "execution_count": 67,
   "id": "06563099-e286-431f-b129-961546b34ddf",
   "metadata": {},
   "outputs": [
    {
     "data": {
      "text/plain": [
       "np.float64(3.7687928424840713)"
      ]
     },
     "execution_count": 67,
     "metadata": {},
     "output_type": "execute_result"
    }
   ],
   "source": [
    "-np.mean(value1*value2)"
   ]
  },
  {
   "cell_type": "code",
   "execution_count": null,
   "id": "f9a79eb5-3f2f-424c-99a3-b707b32f1049",
   "metadata": {},
   "outputs": [],
   "source": []
  }
 ],
 "metadata": {
  "kernelspec": {
   "display_name": "Python 3 (ipykernel)",
   "language": "python",
   "name": "python3"
  },
  "language_info": {
   "codemirror_mode": {
    "name": "ipython",
    "version": 3
   },
   "file_extension": ".py",
   "mimetype": "text/x-python",
   "name": "python",
   "nbconvert_exporter": "python",
   "pygments_lexer": "ipython3",
   "version": "3.12.1"
  }
 },
 "nbformat": 4,
 "nbformat_minor": 5
}
