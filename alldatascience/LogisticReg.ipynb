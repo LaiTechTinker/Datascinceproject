{
 "cells": [
  {
   "cell_type": "code",
   "execution_count": 11,
   "id": "77541025-82aa-494a-ba57-4a1c99e1236f",
   "metadata": {},
   "outputs": [
    {
     "name": "stdout",
     "output_type": "stream",
     "text": [
      "Accuracy: 88.16%\n"
     ]
    },
    {
     "name": "stderr",
     "output_type": "stream",
     "text": [
      "C:\\Users\\PC\\AppData\\Local\\Temp\\ipykernel_11024\\3971066643.py:11: RuntimeWarning: overflow encountered in exp\n",
      "  return 1 / (1 + np.exp(-X))\n"
     ]
    }
   ],
   "source": [
    "import numpy as np\n",
    "from sklearn.datasets import load_breast_cancer\n",
    "from sklearn.model_selection import train_test_split\n",
    "import matplotlib.pyplot as plt\n",
    "\n",
    "# Load dataset\n",
    "cancer = load_breast_cancer()\n",
    "\n",
    "# Sigmoid function\n",
    "def sigmoid(X):\n",
    "    return 1 / (1 + np.exp(-X))\n",
    "\n",
    "# Logistic Regression class\n",
    "class LogisticReg:\n",
    "    def __init__(self, lr=0.001, n_iters=1000):\n",
    "        self.lr = lr\n",
    "        self.n_iters = n_iters\n",
    "        self.weights = None\n",
    "        self.bias = None\n",
    "\n",
    "    def fit(self, X, y):\n",
    "        n_sample, n_features = X.shape\n",
    "        self.weights = np.zeros(n_features)\n",
    "        self.bias = 0\n",
    "        for i in range(self.n_iters):\n",
    "            # Compute linear predictions\n",
    "            linear_predictions = np.dot(X, self.weights) + self.bias\n",
    "            prediction = sigmoid(linear_predictions)\n",
    "\n",
    "            # Compute gradients\n",
    "            dw = (1 / n_sample) * np.dot(X.T, (prediction - y))\n",
    "            db = (1 / n_sample) * np.sum(prediction - y)\n",
    "\n",
    "            # Update parameters\n",
    "            self.weights = self.weights - self.lr * dw\n",
    "            self.bias = self.bias - self.lr * db\n",
    "\n",
    "    def predict(self, X):\n",
    "        # Make predictions\n",
    "        linear_predictions = np.dot(X, self.weights) + self.bias\n",
    "        y_prediction = sigmoid(linear_predictions)\n",
    "\n",
    "        # Convert predictions to 0 or 1 based on the threshold of 0.5\n",
    "        predictions = [1 if y > 0.5 else 0 for y in y_prediction]\n",
    "        return np.array(predictions)\n",
    "\n",
    "# Loading dataset and splitting\n",
    "X = cancer.data\n",
    "y = cancer.target\n",
    "X_train, X_test, y_train, y_test = train_test_split(X, y, train_size=0.2, random_state=1234)\n",
    "\n",
    "# Initialize model and fit it\n",
    "model = LogisticReg()\n",
    "model.fit(X_train, y_train)\n",
    "\n",
    "# Make predictions\n",
    "y_pred = model.predict(X_test)\n",
    "\n",
    "# Optional: You can calculate accuracy here\n",
    "accuracy = np.mean(y_pred == y_test)\n",
    "print(f\"Accuracy: {accuracy * 100:.2f}%\")\n"
   ]
  },
  {
   "cell_type": "code",
   "execution_count": null,
   "id": "196e9bf4-3bb6-4891-b504-ccdf42a450eb",
   "metadata": {},
   "outputs": [],
   "source": []
  }
 ],
 "metadata": {
  "kernelspec": {
   "display_name": "Python 3 (ipykernel)",
   "language": "python",
   "name": "python3"
  },
  "language_info": {
   "codemirror_mode": {
    "name": "ipython",
    "version": 3
   },
   "file_extension": ".py",
   "mimetype": "text/x-python",
   "name": "python",
   "nbconvert_exporter": "python",
   "pygments_lexer": "ipython3",
   "version": "3.12.1"
  }
 },
 "nbformat": 4,
 "nbformat_minor": 5
}
